{
  "nbformat": 4,
  "nbformat_minor": 0,
  "metadata": {
    "colab": {
      "name": "Untitled0.ipynb",
      "provenance": [],
      "collapsed_sections": []
    },
    "kernelspec": {
      "name": "python3",
      "display_name": "Python 3"
    },
    "language_info": {
      "name": "python"
    }
  },
  "cells": [
    {
      "cell_type": "markdown",
      "metadata": {
        "id": "zv_0lLqLgL7D"
      },
      "source": [
        "Guy Kabiri  \n",
        "312252224"
      ]
    },
    {
      "cell_type": "markdown",
      "metadata": {
        "id": "2vBZBEPdfGix"
      },
      "source": [
        "# ***Parallel Sequence Alignment***\n",
        "\n",
        "This project is part of `Parallel Computation` course."
      ]
    },
    {
      "cell_type": "markdown",
      "metadata": {
        "id": "BF0yVXVCfOCY"
      },
      "source": [
        "## ***Intro***\n",
        ">In bioinformatics, a sequence alignment is a way of arranging the sequences of DNA, RNA, or protein to identify regions of similarity that may be a consequence of functional, structural, or evolutionary relationships between the sequences. [[1]](https://en.wikipedia.org/wiki/Sequence_alignment)  "
      ]
    },
    {
      "cell_type": "markdown",
      "metadata": {
        "id": "7mPPT9xlfRsL"
      },
      "source": [
        "## ***Sequence Alignment Evaluation***\n",
        "Each pair of characters generates a special character that indicates the degree of similarity between them.  \n",
        "The special characters are `*` (asterisk), `:` (colon), `.` (dot), and `_` (space).  \n",
        "The following definitions apply:  \n",
        "*   Equal characters will produce a `*`.\n",
        "*   If two characters are not equal, but present in the same conservative group, they will produce a `:` sign.\n",
        "*   If characters of a pair are not in the same conservative group but are in a semi-conservative group, then they will produce a `.`.\n",
        "*   If none of the above is true, the characters will result in a `_` sign."
      ]
    },
    {
      "cell_type": "markdown",
      "metadata": {
        "id": "pjk2G1lGgCvS"
      },
      "source": [
        "### ***Equation***\n",
        "Since each sign is weighted, the following equation will result from comparing two sequences:  \n",
        "$$ S = N_{1} \\times W_{1} - N_{2} \\times W_{2} - N_{3} \\times W_{3} - N_{4} \\times W_{4} $$\n",
        "\n",
        ">   $ N_{i} $ represents the amount, and $ W_{i} $ represents the weight, respectively, of `*`, `:`, `.`, and `_`."
      ]
    },
    {
      "cell_type": "markdown",
      "metadata": {
        "id": "r1ay5uHygGNS"
      },
      "source": [
        "### ***Groups***\n",
        "\n",
        "|Conservative Groups|Semi-Conservative Groups|\n",
        "|--|--|\n",
        "|<table><tr><td>NDEQ</td><td>NEQK</td><td>STA</td></tr><tr><td>MILV</td><td>QHRK</td><td>NHQK</td></tr><tr><td>FYW</td><td>HY</td><td>MILF</td></tr></table>|<table><tr><td>SAG</td><td>ATV</td><td>CSA</td></tr><tr><td>MSGNDILV</td><td>STPA</td><td>STNK</td></tr><tr><td>NEQHRK</td><td>NDEQHK</td><td>SNDEQK</td></tr><tr><td>HFY</td><td>FVLIM</td><td></td></tr></table>|\n",
        "\n",
        "\n",
        "An example of a pair-wise evaluation  \n",
        "```\n",
        "PSEKHLQCLLQRHKGK\n",
        "HSKSHLQHLLQRHKSQ\n",
        "_*:.***_******.:\n",
        "```\n",
        "\n",
        "The following can be seen above:\n",
        "*   The 2nd pair consists of the characters `S` and `S`, they are equal, and hence result in the `*` sign.\n",
        "*   The 3rd pair, `E` and `K`, are not equal, but present in the conservative group `NEQK`, so the result is a `:`.\n",
        "* The 4th pair, `K` and `S`, don't belong to the same conservative group, but rather the same semi-conservative group `STNK`. Therefore, they result in a `.` sign.\n",
        "*   The 1st pair consists of `P` and `H` without applying any of the rules defined above, so they result in the `_` sign.\n",
        "\n",
        "\n",
        "The similarity of two sequences `Seq1` and `Seq2` defined as followed:\n",
        "*\t`Seq2` is places under the Sequence Seq1 with offset `n` from the start of `Seq1`. Where `Seq2` do not allowed to pass behind the end of `Seq1`.\n",
        "*\tThe letters from `Seq1` that do not have a corresponding letter from `Seq2` are ignored.\n",
        "*\tThe Alignment Score is calculated according the pair-wise procedure described above.\n",
        "\n",
        "\n",
        "Examples:  \n",
        "\n",
        "1. \n",
        "```\n",
        "LQRHKRTHTGEKPYEPSHLQYHERTHTGEKPYECHQCHQAFKKCSLLQRHKRTH\n",
        "                     HERTHTGEKPYECHQCRTAFKKCSLLQRHK\n",
        "                     ****************: ************\n",
        "```\n",
        ">   Weights: 1.5 2.6 0.3 0.2  \n",
        ">   Offset: 21  \n",
        ">   Score: 39.2  \n",
        "\n",
        "\n",
        "2. \n",
        "```\n",
        "ELMVRTNMYTONEWVFNVJERVMKLWEMVKL\n",
        "   MSKDVMSDLKWEV\n",
        "   : .:: :  :* .\n",
        "```\n",
        ">   Weights: 5 4 3 2  \n",
        ">   Offset: 3  \n",
        ">   Score: -31"
      ]
    },
    {
      "cell_type": "markdown",
      "metadata": {
        "id": "Pdb2HApMfZJW"
      },
      "source": [
        "## ***Mutation***\n",
        "For a given Sequence `S` we define a Mutant Sequence $ MS(n) $ which is received by substitution of one or more characters by other character defined by Substitution Rules:\n",
        "*\tThe original character is allowed to be substituted by another character if there is no conservative group that contains both characters.  \n",
        "    For example:\n",
        "    * `N` is not allowed to be substituted by `H` because both characterss present in conservative group `NHQK`.\n",
        "    * `N` may be substituted by `W` because there is now conservative group that contains both `N` and `W`.\n",
        "*   It is not mandatory to substitute all instances of some characters by same substitution character, for example the sequence `PSHLSPSQ` has Mutant Sequence `PFHLSPLQ`."
      ]
    },
    {
      "cell_type": "markdown",
      "metadata": {
        "id": "LxQZBfJAfd-X"
      },
      "source": [
        "## ***Project Definition***\n",
        "In the given assignment, two sequences `Seq1`, `Seq2`, and a set of weights is provided.  \n",
        "A mutation of the sequences `Seq2` and it's offset is need to be found, which produce the `MAX` or `MIN` score (will be given as an input as well).  "
      ]
    },
    {
      "cell_type": "markdown",
      "metadata": {
        "id": "NjMGAG3Wfj4r"
      },
      "source": [
        "## ***Solution***\n",
        "Initially, a basic iterative solution was implemented. By iterating over the offsets and then for each pair of letters in the offset, the problem can be solved sequentially.  \n",
        "Comparing each pair of letters to determine whether they are equal or fall into one of the conservative or semi-conservative groups, then finding their best substitutions (if possible).  \n",
        "Hence, save any better substitution found for a pair than the previous one.  \n",
        "The main objective of this project is to parallelize the CPU and GPU simultaneously, taking advantage of their maximum abilities.  \n",
        "While the CPU tasks will be parallelized with `OpenMP`, the GPU tasks will be parallelized with `CUDA`.  \n",
        "It is first necessary to examine what can be parallelized in this problem, that is, what tasks are being performed independently of one another.  \n",
        "The program will run on two machines at the same time, which will require using `MPI` to send data between them."
      ]
    },
    {
      "cell_type": "markdown",
      "metadata": {
        "id": "3QduEdoUfgxd"
      },
      "source": [
        "### ***CPU Implementation***\n",
        "Having written the sequential solution, I realized it would be time-wasting to check whether each pair of letters belongs to a conservative or semi-conservative group several times during the run.  \n",
        "Despite the fact that iterations over the groups are non-linear ($O(1)$) (since the number of groups and letters in each group is constant), the groups are given ahead of time, so each evaluation of two letters can be done before the program is run, saving significant time.  \n",
        "\n",
        "Consequently, I created a hashtable of 26 letters and one `-` character (27 X 27). \n",
        "Although each pair is still evaluated in $O(1)$, this method is much faster than the previous one.  \n",
        "Additionally, `OpenMP` can be used for filling this hashtable, since each cell in the table is calculated independently.  \n",
        "The hashtable (spaces were used instead of `_`) is as follows:\n",
        "\n",
        "```\n",
        "   A B C D E F G H I J K L M N O P Q R S T U V W X Y Z -\n",
        "   _____________________________________________________\n",
        "A |*   .       .                 .     : :   .          \n",
        "B |  *                                                  \n",
        "C |.   *                               .                \n",
        "D |      * :   . .     .     :     :   .                \n",
        "E |      : *     .     :     :     : . .                \n",
        "F |          *   . :     : :                 . :   :    \n",
        "G |.     .     *             .         .                \n",
        "H |      . . .   *     :     :     : :             :    \n",
        "I |          :     *     : :                 :          \n",
        "J |                  *                                  \n",
        "K |      . :     :     *     :     : : . .              \n",
        "L |          :     :     * :                 :          \n",
        "M |          :     :     : *                 :          \n",
        "N |      : :   . :     :     *     : . . .              \n",
        "O |                            *                        \n",
        "P |.                             *     . .              \n",
        "Q |      : :     :     :     :     * : .                \n",
        "R |        .     :     :     .     : *                  \n",
        "S |:   . . .   .       .     .   . .   * :              \n",
        "T |:                   .     .   .     : *   .          \n",
        "U |                                        *            \n",
        "V |.         .     :     : :             .   *          \n",
        "W |          :                                 *   :    \n",
        "X |                                              *      \n",
        "Y |          :   :                             :   *    \n",
        "Z |                                                  *  \n",
        "- |                                                    * \n",
        "```\n",
        "\n",
        "It is now necessary to implement a parallel solution. As the project will run simultaneously on two machines, each should handle half of the tasks.  \n",
        "A single machine should be able to download the input data and write the output data to the file, as specified in the project. The data should be sent between machines using MPI before beginning the search algorithm.  \n",
        "Since each offset and pair of letters within each offset are independent, parallelizing with the CPU can be accomplished in two ways: either parallelize offsets between the two sequences and iterate sequentially over the pairs at offsets, or parallelize offsets and parallel the pairs at offsets.  \n",
        "By taking the second method and parallelizing the pairs in each offset it will be necessary later to somehow sum the pairs score, or to use mechanism such as `critical blocks` to find the total offset's score.\n",
        "Therefore, the first method appears to be more efficient.\n",
        "Using MPI, one can easily determine the number of processes, so after passing data between processes, one can figure out how many offsets in total will be accomplished. As each process has its own ID, it can determine which specific offsets it will handle (taking into account when dividing the number of offsets unevenly among the number of machines).  \n",
        "Additionally, the machine provided has quad-core CPUs.\n",
        "Creating more threads than there are cores will not improve performance, and may even result in slower run times because the CPU will have to switch between them."
      ]
    },
    {
      "cell_type": "markdown",
      "metadata": {
        "id": "mpKpYmQhfnfB"
      },
      "source": [
        "### ***GPU Implementation***\n",
        "In the beginning, an implementation similar to that on the CPU was performed. The number of threads created was equal to how many offsets the GPU has to handle.  \n",
        "On second thought, that could lead to a failure to utilize all of the GPU's resources, when, for example, there are 3 offsets with each 1,000 characters.  \n",
        "The GPU will only allocate three threads, although a higher number could have been allocated.  \n",
        "CUDA provides a maximum of 1,024 threads per block, and 65,535 blocks (in each dimension of the grid), which results in a maximum of 67,107,840 threads per block (in one dimension block case).  \n",
        "The project limitation is 10,000 letters for `Seq1` and 5,000 letters for `Seq2`, which adds up to 25,000,000 pairs of letters.  \n",
        "The pairs of letters and offsets are independent of each other as discussed above.  \n",
        "Allocating a thread for each offset and letter would be a much better idea.  \n",
        "In CUDA, threads are structured into blocks, with each thread having a unique `block-id` and `thread-id` that can be used to determine which offset and pair in that offset it should handle.\n",
        "Now, each thread will handle a specific pair of letters at a specific offset.  \n",
        "Once the threads have completed evaluating the letters, the program has an array of mutations for each pair of letters and the original score of the original letters.  \n",
        "In order to sum up the array and determine which mutation is optimal, a reduction is required.  \n",
        "A reduction of pairs in each offset is necessary, in order to sum the offset's score and the optimal offset's mutation.  \n",
        "After that, a second reduction is needed to determine which offset has the best mutation. Instead of linear iteration over the array, the reduction could be implemented in parallel.  \n",
        "While investigating the parallel reduce algorithm, I realized that the mutations for a given offset will often end up in different thread blocks when the given input has a letter sequence that exceeds 1,024 letters.  \n",
        "Because CUDA does not support over-grid thread-synchronization, but only per block, it will be very difficult to implement the reduction algorithm.  \n",
        "Several ways of handling this situation are suggested over the internet, such as using `counter lock`, which acts like a barrier, or CUDA's `cooperative-groups`, which allows threads to synchronize over the whole group.  \n",
        "A different solution had to be found due to time constraints. Finally, it was decided to generate the number of blocks as the number of offsets, so that if there are more than 1,024 pairs of letters in each offset, some threads will have to calculate a mutation up to 5 times (since the maximum number of letters can be up to 5,000)."
      ]
    },
    {
      "cell_type": "markdown",
      "metadata": {
        "id": "R7J4VOTFf6Vm"
      },
      "source": [
        "#### ***Parallel Reduction***\n",
        "Parallel reduction refers to algorithms that combine an array of elements to produce a single value.  \n",
        "Among the problems that can be solved by this algorithm are those involving operators that are associative and commutative.  \n",
        "The following are some examples:\n",
        "*  Sum of an array.\n",
        "*  Minimum/Maximum of an array.\n",
        "\n",
        "If one has an array of $ n $ values and $ n $ threads, the reduction algorithm provides a solution of $ log(n) $.  \n",
        "Reduce an array with $ n $ elements requires the algorithm to calculate the ceiling number of $ n $, which is a power of 2 ($ m = 2^{\\lceil{log(n)}\\rceil} $).  \n",
        "At the beginning of the algorithm, a $ m/_2 $ `stride` constant is defined.  \n",
        "For each iteration of the algorithm, every cell performs the reduced operation between itself ($ i $) and $ i + stide $. After each iteration, divide stride by 2.\n",
        "\n",
        "![](https://www.researchgate.net/profile/John-Steuben/publication/283708523/figure/fig5/AS:667787655643141@1536224392398/Illustration-of-the-optimized-parallel-reduce-algorithm.png)  \n",
        "*As can see above, array size is $ 16 $, therefore `stride` will be $ 8 $, and the amount of iterations is $ log(16) = 4 $. [Image source](https://www.researchgate.net/publication/283708523_Towards_Real-Time_Composite_Material_Characterization_Using_Surrogate_Models_and_GPGPU_Computing)*"
      ]
    },
    {
      "cell_type": "markdown",
      "metadata": {
        "id": "kTMyNROCfrap"
      },
      "source": [
        "## Dividing CPU and GPU tasks\n",
        "Run-time evaluations were performed on a number of configurations with multiple inputs:  \n",
        "* Sequentially only.\n",
        "*  OpenMP only.\n",
        "*  CUDA only.\n",
        "*  Some OpenMP, some CUDA.  \n",
        "\n",
        "The following configuration was selected for the project based on the runtime of these configurations:  \n",
        "Parallelizing the CPU and GPU together, one of the CPU cores is used to initiate the GPU, while the other three cores are used for calculations.\n",
        "The separation of CUDA and OpenMP will not be more efficient than running the task with only CUDA if the number of tasks (number of offsets times number of letters to evaluate) exceeds 20% of the maximum possible tasks (25,005,000).  \n",
        "Furthermore, if the amount of tasks is small, it would be wasteful to allocate and copy memory over the GPU.  \n",
        "If the tasks are smaller than 20%, only OpenMP will handle them; otherwise, just the GPU.  \n",
        "A further explanation follows the complexity section."
      ]
    },
    {
      "cell_type": "markdown",
      "metadata": {
        "id": "dGMN_ircfu9A"
      },
      "source": [
        "## ***Complexity***\n",
        "The complexity of this solution depends on the length of both sequences.  \n",
        "Using $len(seq1)=n$, and $len(seq2)=m$, the amount of offset will be $n-m+1$.  \n",
        "Each offset evolves the evaluation of $m$ pairs of letters. Calculation of CPU and GPU will be done separately for simplicity."
      ]
    },
    {
      "cell_type": "markdown",
      "metadata": {
        "id": "m3cSFKydfxeJ"
      },
      "source": [
        "### ***CPU Complexity***\n",
        "By parallelizing the offsets, each thread will handle $\\frac{n-m+1}{4}$ offsets, which has a complexity of $O(n-m)$.  \n",
        "In each offset, a sequential iteration over the letters is performed, which takes $O(m)$.  \n",
        "Having found the best mutation for each thread, all threads will be compared. There are as many threads as there are cores in the CPU, so the evaluation is linear.  \n",
        "Thus, the complexity of the CPU is $O((n-m) \\times m)=O(nm-m^2)$."
      ]
    },
    {
      "cell_type": "markdown",
      "metadata": {
        "id": "NuHqBSevfzSo"
      },
      "source": [
        "### ***GPU Complexity***\n",
        "The GPU represents each offset as a block of threads, each thread, as discussed earlier, will handle a maximum of five pairs of letters, which means that all possible mutations are evaluated in $O(1)$.  \n",
        "A reduction algorithm is run twice after evaluating the mutations. Initially, each block of threads will reduce its own mutations, since each offset has $m$ pairs, it takes $O(log(m))$.  \n",
        "Having $n-m+1$ offsets, the complexity of the second reduction is $O(log(n-m))$.  \n",
        "All these operations are performed separately, combining all of them will produce complexity $O(1)+O(log(m))+O(log(n-m))$, resulting in $O(log(m))+O(log(n-m))$.  "
      ]
    },
    {
      "cell_type": "markdown",
      "metadata": {
        "id": "JvS4pu9aQAPF"
      },
      "source": [
        "## ***Complexity and Configuration Summery***\n",
        "Because it is determined at runtime, and based on input, whether to allocate tasks to the CPU or GPU, the total complexity is $O(nm-m^2)+O(log(m))+O(log(n-m))$.\n",
        "This project does not run both CPU and GPU, even though it is implemented to do so:  \n",
        "At most, we will have $offsets \\times letters = (n-m+1) \\times m$.  \n",
        "Considering the maximum values of $n=10,000$ and $m=5,000$, CUDA can handle input with a complexity of $O(log(m))+O(log(n-m))$.  \n",
        "Thus, the maximum number of CUDA iterations in this project is limited to $O(log(5000))+O(log(5000))=25$ per thread.  \n",
        "With OpenMP, the complexity would be $O((n-m) \\times m)$; since each thread handles a quarter of the offsets, this would result in $\\frac{10,000-5,000}{4} \\times 5,000=2,500 \\times 5,000=6,250,000$ iterations per thread.  \n",
        "So, even when allocating and copying data into the GPU memory, it can handle big inputs very quickly.  \n",
        "While for a smaller input, allocating and copying data to the GPU would take more time than directing the fourth thread of the CPU to perform the calculations."
      ]
    },
    {
      "cell_type": "markdown",
      "metadata": {
        "id": "MzeA50rKf1c7"
      },
      "source": [
        "## ***How To Run***\n",
        "The project was developed using `MPI`, `OpenMP`, and `CUDA`. Therefore, all of those library had to be installed for the project to run.  \n",
        "An input file with a name of `input.txt`, and with the following structure has to be present in the root directory:\n",
        "*   The first line will contain 4 weights (decimal or non decimal) in the exact order of `W1`, `W2`, `W3`, and `W4`.\n",
        "*   The seconde line will contains the first sequence `Seq1` (up to 10,000 characters).\n",
        "*   The third line will contains the second sequence `Seq2` (up to 5,000characters).\n",
        "*   The last line will contain the string `maximum` or `minimum` to define the algorithm which defines the goal of the search.  \n",
        "\n",
        "The output file (`output.txt`) will results with the mutant of `Seq2` in the first line, and it's offset and score in the second line.\n",
        "\n",
        "A machinefile (`mf`) with subnetwork IP addresses is required for this project to run on two machines at the same time.  \n",
        "Once the executable program is present on both machines and the file have been created on the main machine, run the following:\n",
        "```\n",
        "mpiexec -np 2 -machinefile mf -map-by node ./{EXECUTABLE}\n",
        "```\n",
        "*where `{EXECUTABLE}` is the name of the executable file.*  \n",
        "\n",
        "\n",
        "The following can be run on a single machine:\n",
        "```\n",
        "mpiexec -np {NUM} ./{EXECUTABLE}\n",
        "```\n",
        "*In this case, `{EXECUTABLE}` is the name of the executable file, and `{NUM}` is the number of processes to be initiated.*"
      ]
    },
    {
      "cell_type": "markdown",
      "metadata": {
        "id": "Qfwe_lFAXxZi"
      },
      "source": [
        "## ***References***\n",
        "*  [Sequence alignment article on Wikipedia](https://en.wikipedia.org/wiki/Sequence_alignment)\n",
        "*  [NVIDIA's Optimizing Parallel Reduction in CUDA](https://developer.download.nvidia.com/assets/cuda/files/reduction.pdf)\n",
        "*  [Parallel reduction (e.g. how to sum an array)](https://sodocumentation.net/cuda/topic/6566/parallel-reduction--e-g--how-to-sum-an-array-)\n",
        "*  [Parallel Reduction with CUDA](https://shreeraman-ak.medium.com/parallel-reduction-with-cuda-d0ae10c1ae2c)\n",
        "*  [University of Illinois Urbana-Champaign's MPI Datatypes Lecture](https://wgropp.cs.illinois.edu/courses/cs598-s16/lectures/lecture27a.pdf)"
      ]
    }
  ]
}